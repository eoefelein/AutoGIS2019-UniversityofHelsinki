{
 "cells": [
  {
   "cell_type": "code",
   "execution_count": 1,
   "metadata": {},
   "outputs": [
    {
     "data": {
      "application/javascript": [
       "\n",
       "            setTimeout(function() {\n",
       "                var nbb_cell_id = 1;\n",
       "                var nbb_unformatted_code = \"%load_ext nb_black\";\n",
       "                var nbb_formatted_code = \"%load_ext nb_black\";\n",
       "                var nbb_cells = Jupyter.notebook.get_cells();\n",
       "                for (var i = 0; i < nbb_cells.length; ++i) {\n",
       "                    if (nbb_cells[i].input_prompt_number == nbb_cell_id) {\n",
       "                        if (nbb_cells[i].get_text() == nbb_unformatted_code) {\n",
       "                             nbb_cells[i].set_text(nbb_formatted_code);\n",
       "                        }\n",
       "                        break;\n",
       "                    }\n",
       "                }\n",
       "            }, 500);\n",
       "            "
      ],
      "text/plain": [
       "<IPython.core.display.Javascript object>"
      ]
     },
     "metadata": {},
     "output_type": "display_data"
    }
   ],
   "source": [
    "%load_ext nb_black"
   ]
  },
  {
   "cell_type": "code",
   "execution_count": 2,
   "metadata": {},
   "outputs": [
    {
     "name": "stderr",
     "output_type": "stream",
     "text": [
      "/srv/conda/envs/notebook/lib/python3.8/site-packages/geopandas/_compat.py:84: UserWarning: The Shapely GEOS version (3.8.0-CAPI-1.13.1 ) is incompatible with the GEOS version PyGEOS was compiled with (3.9.0-CAPI-1.16.2). Conversions between both will be slow.\n",
      "  warnings.warn(\n",
      "/srv/conda/envs/notebook/lib/python3.8/site-packages/requests/__init__.py:89: RequestsDependencyWarning: urllib3 (1.26.3) or chardet (3.0.4) doesn't match a supported version!\n",
      "  warnings.warn(\"urllib3 ({}) or chardet ({}) doesn't match a supported \"\n"
     ]
    },
    {
     "data": {
      "application/javascript": [
       "\n",
       "            setTimeout(function() {\n",
       "                var nbb_cell_id = 2;\n",
       "                var nbb_unformatted_code = \"import pandas as pd\\nimport numpy as np\\nimport geopandas as gpd\\nfrom geopandas.tools import geocode\\nimport geopy\\nfrom pyproj import CRS\\nimport matplotlib.pyplot as plt\\nimport descartes\\nimport mapclassify\\nimport pysal\\nimport pygeos\\n\\n# Read files\\ngrid = gpd.read_file('MetropAccess_YKR_grid/MetropAccess_YKR_grid_EurefFIN.shp')\\n\\ndata = pd.read_csv('TravelTimes_to_5878070_Jumbo.txt', sep=';')\\n\\nroads = gpd.read_file('roads/roads.shp')\\n\\n#points of interest\\nsuomenlinna = '00190 Helsinki, Finland'\\nrock_church = 'Lutherinkatu 3, Helsinki'\\n\\nimport warnings\\nwarnings.filterwarnings('ignore')\\nwarnings.simplefilter('ignore')\";\n",
       "                var nbb_formatted_code = \"import pandas as pd\\nimport numpy as np\\nimport geopandas as gpd\\nfrom geopandas.tools import geocode\\nimport geopy\\nfrom pyproj import CRS\\nimport matplotlib.pyplot as plt\\nimport descartes\\nimport mapclassify\\nimport pysal\\nimport pygeos\\n\\n# Read files\\ngrid = gpd.read_file(\\\"MetropAccess_YKR_grid/MetropAccess_YKR_grid_EurefFIN.shp\\\")\\n\\ndata = pd.read_csv(\\\"TravelTimes_to_5878070_Jumbo.txt\\\", sep=\\\";\\\")\\n\\nroads = gpd.read_file(\\\"roads/roads.shp\\\")\\n\\n# points of interest\\nsuomenlinna = \\\"00190 Helsinki, Finland\\\"\\nrock_church = \\\"Lutherinkatu 3, Helsinki\\\"\\n\\nimport warnings\\n\\nwarnings.filterwarnings(\\\"ignore\\\")\\nwarnings.simplefilter(\\\"ignore\\\")\";\n",
       "                var nbb_cells = Jupyter.notebook.get_cells();\n",
       "                for (var i = 0; i < nbb_cells.length; ++i) {\n",
       "                    if (nbb_cells[i].input_prompt_number == nbb_cell_id) {\n",
       "                        if (nbb_cells[i].get_text() == nbb_unformatted_code) {\n",
       "                             nbb_cells[i].set_text(nbb_formatted_code);\n",
       "                        }\n",
       "                        break;\n",
       "                    }\n",
       "                }\n",
       "            }, 500);\n",
       "            "
      ],
      "text/plain": [
       "<IPython.core.display.Javascript object>"
      ]
     },
     "metadata": {},
     "output_type": "display_data"
    }
   ],
   "source": [
    "import pandas as pd\n",
    "import numpy as np\n",
    "import geopandas as gpd\n",
    "from geopandas.tools import geocode\n",
    "import geopy\n",
    "from pyproj import CRS\n",
    "import matplotlib.pyplot as plt\n",
    "import descartes\n",
    "import mapclassify\n",
    "import pysal\n",
    "import pygeos\n",
    "\n",
    "# Read files\n",
    "grid = gpd.read_file('MetropAccess_YKR_grid/MetropAccess_YKR_grid_EurefFIN.shp')\n",
    "\n",
    "data = pd.read_csv('TravelTimes_to_5878070_Jumbo.txt', sep=';')\n",
    "\n",
    "roads = gpd.read_file('roads/roads.shp')\n",
    "\n",
    "#points of interest\n",
    "suomenlinna = '00190 Helsinki, Finland'\n",
    "rock_church = 'Lutherinkatu 3, Helsinki'\n",
    "\n",
    "import warnings\n",
    "warnings.filterwarnings('ignore')\n",
    "warnings.simplefilter('ignore')"
   ]
  },
  {
   "cell_type": "code",
   "execution_count": 3,
   "metadata": {},
   "outputs": [
    {
     "data": {
      "text/html": [
       "<div>\n",
       "<style scoped>\n",
       "    .dataframe tbody tr th:only-of-type {\n",
       "        vertical-align: middle;\n",
       "    }\n",
       "\n",
       "    .dataframe tbody tr th {\n",
       "        vertical-align: top;\n",
       "    }\n",
       "\n",
       "    .dataframe thead th {\n",
       "        text-align: right;\n",
       "    }\n",
       "</style>\n",
       "<table border=\"1\" class=\"dataframe\">\n",
       "  <thead>\n",
       "    <tr style=\"text-align: right;\">\n",
       "      <th></th>\n",
       "      <th>addr</th>\n",
       "    </tr>\n",
       "  </thead>\n",
       "  <tbody>\n",
       "    <tr>\n",
       "      <th>0</th>\n",
       "      <td>00190 Helsinki, Finland</td>\n",
       "    </tr>\n",
       "    <tr>\n",
       "      <th>1</th>\n",
       "      <td>Lutherinkatu 3, Helsinki</td>\n",
       "    </tr>\n",
       "  </tbody>\n",
       "</table>\n",
       "</div>"
      ],
      "text/plain": [
       "                       addr\n",
       "0   00190 Helsinki, Finland\n",
       "1  Lutherinkatu 3, Helsinki"
      ]
     },
     "execution_count": 3,
     "metadata": {},
     "output_type": "execute_result"
    },
    {
     "data": {
      "application/javascript": [
       "\n",
       "            setTimeout(function() {\n",
       "                var nbb_cell_id = 3;\n",
       "                var nbb_unformatted_code = \"# create dataframe of all addresses of interest\\nsites_of_interest = pd.DataFrame([suomenlinna, rock_church], \\n                     columns = ['addr'])\\nsites_of_interest\";\n",
       "                var nbb_formatted_code = \"# create dataframe of all addresses of interest\\nsites_of_interest = pd.DataFrame([suomenlinna, rock_church], columns=[\\\"addr\\\"])\\nsites_of_interest\";\n",
       "                var nbb_cells = Jupyter.notebook.get_cells();\n",
       "                for (var i = 0; i < nbb_cells.length; ++i) {\n",
       "                    if (nbb_cells[i].input_prompt_number == nbb_cell_id) {\n",
       "                        if (nbb_cells[i].get_text() == nbb_unformatted_code) {\n",
       "                             nbb_cells[i].set_text(nbb_formatted_code);\n",
       "                        }\n",
       "                        break;\n",
       "                    }\n",
       "                }\n",
       "            }, 500);\n",
       "            "
      ],
      "text/plain": [
       "<IPython.core.display.Javascript object>"
      ]
     },
     "metadata": {},
     "output_type": "display_data"
    }
   ],
   "source": [
    "# create dataframe of all addresses of interest\n",
    "sites_of_interest = pd.DataFrame([suomenlinna, rock_church], \n",
    "                     columns = ['addr'])\n",
    "sites_of_interest"
   ]
  },
  {
   "cell_type": "code",
   "execution_count": 4,
   "metadata": {},
   "outputs": [
    {
     "data": {
      "text/html": [
       "<div>\n",
       "<style scoped>\n",
       "    .dataframe tbody tr th:only-of-type {\n",
       "        vertical-align: middle;\n",
       "    }\n",
       "\n",
       "    .dataframe tbody tr th {\n",
       "        vertical-align: top;\n",
       "    }\n",
       "\n",
       "    .dataframe thead th {\n",
       "        text-align: right;\n",
       "    }\n",
       "</style>\n",
       "<table border=\"1\" class=\"dataframe\">\n",
       "  <thead>\n",
       "    <tr style=\"text-align: right;\">\n",
       "      <th></th>\n",
       "      <th>geometry</th>\n",
       "      <th>address</th>\n",
       "    </tr>\n",
       "  </thead>\n",
       "  <tbody>\n",
       "    <tr>\n",
       "      <th>0</th>\n",
       "      <td>POINT (24.98639 60.14525)</td>\n",
       "      <td>Suomenlinna, Eteläinen suurpiiri, Helsinki, He...</td>\n",
       "    </tr>\n",
       "    <tr>\n",
       "      <th>1</th>\n",
       "      <td>POINT (24.92523 60.17296)</td>\n",
       "      <td>Temppeliaukion kirkko, 3, Lutherinkatu, Etu-Tö...</td>\n",
       "    </tr>\n",
       "  </tbody>\n",
       "</table>\n",
       "</div>"
      ],
      "text/plain": [
       "                    geometry  \\\n",
       "0  POINT (24.98639 60.14525)   \n",
       "1  POINT (24.92523 60.17296)   \n",
       "\n",
       "                                             address  \n",
       "0  Suomenlinna, Eteläinen suurpiiri, Helsinki, He...  \n",
       "1  Temppeliaukion kirkko, 3, Lutherinkatu, Etu-Tö...  "
      ]
     },
     "execution_count": 4,
     "metadata": {},
     "output_type": "execute_result"
    },
    {
     "data": {
      "application/javascript": [
       "\n",
       "            setTimeout(function() {\n",
       "                var nbb_cell_id = 4;\n",
       "                var nbb_unformatted_code = \"# geocode addresses\\nsites_of_interest = geocode(sites_of_interest['addr'],provider='nominatim', user_agent='autogis_xx', timeout=4)\\nsites_of_interest\";\n",
       "                var nbb_formatted_code = \"# geocode addresses\\nsites_of_interest = geocode(\\n    sites_of_interest[\\\"addr\\\"], provider=\\\"nominatim\\\", user_agent=\\\"autogis_xx\\\", timeout=4\\n)\\nsites_of_interest\";\n",
       "                var nbb_cells = Jupyter.notebook.get_cells();\n",
       "                for (var i = 0; i < nbb_cells.length; ++i) {\n",
       "                    if (nbb_cells[i].input_prompt_number == nbb_cell_id) {\n",
       "                        if (nbb_cells[i].get_text() == nbb_unformatted_code) {\n",
       "                             nbb_cells[i].set_text(nbb_formatted_code);\n",
       "                        }\n",
       "                        break;\n",
       "                    }\n",
       "                }\n",
       "            }, 500);\n",
       "            "
      ],
      "text/plain": [
       "<IPython.core.display.Javascript object>"
      ]
     },
     "metadata": {},
     "output_type": "display_data"
    }
   ],
   "source": [
    "# geocode addresses\n",
    "sites_of_interest = geocode(sites_of_interest['addr'],provider='nominatim', user_agent='autogis_xx', timeout=4)\n",
    "sites_of_interest"
   ]
  },
  {
   "cell_type": "code",
   "execution_count": 5,
   "metadata": {},
   "outputs": [
    {
     "data": {
      "application/javascript": [
       "\n",
       "            setTimeout(function() {\n",
       "                var nbb_cell_id = 5;\n",
       "                var nbb_unformatted_code = \"# Rename 'from_id' column to 'YKR_ID'\\ndata = data.rename(columns={'from_id':'YKR_ID'})\\n\\n# Merge the travel times DataFrame to grid\\ndata_geo = grid.merge(data, on='YKR_ID')\\n\\n# GeoDataFrames reprojected to ETRS89 / TM35FIN based on crs of data_geo\\nroads = roads.to_crs(crs=data_geo.crs)\";\n",
       "                var nbb_formatted_code = \"# Rename 'from_id' column to 'YKR_ID'\\ndata = data.rename(columns={\\\"from_id\\\": \\\"YKR_ID\\\"})\\n\\n# Merge the travel times DataFrame to grid\\ndata_geo = grid.merge(data, on=\\\"YKR_ID\\\")\\n\\n# GeoDataFrames reprojected to ETRS89 / TM35FIN based on crs of data_geo\\nroads = roads.to_crs(crs=data_geo.crs)\";\n",
       "                var nbb_cells = Jupyter.notebook.get_cells();\n",
       "                for (var i = 0; i < nbb_cells.length; ++i) {\n",
       "                    if (nbb_cells[i].input_prompt_number == nbb_cell_id) {\n",
       "                        if (nbb_cells[i].get_text() == nbb_unformatted_code) {\n",
       "                             nbb_cells[i].set_text(nbb_formatted_code);\n",
       "                        }\n",
       "                        break;\n",
       "                    }\n",
       "                }\n",
       "            }, 500);\n",
       "            "
      ],
      "text/plain": [
       "<IPython.core.display.Javascript object>"
      ]
     },
     "metadata": {},
     "output_type": "display_data"
    }
   ],
   "source": [
    "# Rename 'from_id' column to 'YKR_ID'\n",
    "data = data.rename(columns={'from_id':'YKR_ID'})\n",
    "\n",
    "# Merge the travel times DataFrame to grid\n",
    "data_geo = grid.merge(data, on='YKR_ID')\n",
    "\n",
    "# GeoDataFrames reprojected to ETRS89 / TM35FIN based on crs of data_geo\n",
    "roads = roads.to_crs(crs=data_geo.crs)"
   ]
  },
  {
   "cell_type": "code",
   "execution_count": 6,
   "metadata": {},
   "outputs": [
    {
     "data": {
      "application/javascript": [
       "\n",
       "            setTimeout(function() {\n",
       "                var nbb_cell_id = 6;\n",
       "                var nbb_unformatted_code = \"# Return only those values != -1 -- -1 will become NAN\\ndata_geo = data_geo[data_geo != -1]\\n# Remove NAN\\ndata_geo.dropna(inplace=True)\";\n",
       "                var nbb_formatted_code = \"# Return only those values != -1 -- -1 will become NAN\\ndata_geo = data_geo[data_geo != -1]\\n# Remove NAN\\ndata_geo.dropna(inplace=True)\";\n",
       "                var nbb_cells = Jupyter.notebook.get_cells();\n",
       "                for (var i = 0; i < nbb_cells.length; ++i) {\n",
       "                    if (nbb_cells[i].input_prompt_number == nbb_cell_id) {\n",
       "                        if (nbb_cells[i].get_text() == nbb_unformatted_code) {\n",
       "                             nbb_cells[i].set_text(nbb_formatted_code);\n",
       "                        }\n",
       "                        break;\n",
       "                    }\n",
       "                }\n",
       "            }, 500);\n",
       "            "
      ],
      "text/plain": [
       "<IPython.core.display.Javascript object>"
      ]
     },
     "metadata": {},
     "output_type": "display_data"
    }
   ],
   "source": [
    "# Return only those values != -1 -- -1 will become NAN\n",
    "data_geo = data_geo[data_geo != -1]\n",
    "# Remove NAN\n",
    "data_geo.dropna(inplace=True)"
   ]
  },
  {
   "cell_type": "code",
   "execution_count": 7,
   "metadata": {},
   "outputs": [
    {
     "data": {
      "application/javascript": [
       "\n",
       "            setTimeout(function() {\n",
       "                var nbb_cell_id = 7;\n",
       "                var nbb_unformatted_code = \"# Aggregate data_geo by total_route_times \\ntravel_time = data_geo.dissolve(by='pt_m_t')\\n# reset index and drop index col -- drop first row containing invalid data\\ntravel_time = travel_time.reset_index(drop=True)\";\n",
       "                var nbb_formatted_code = \"# Aggregate data_geo by total_route_times\\ntravel_time = data_geo.dissolve(by=\\\"pt_m_t\\\")\\n# reset index and drop index col -- drop first row containing invalid data\\ntravel_time = travel_time.reset_index(drop=True)\";\n",
       "                var nbb_cells = Jupyter.notebook.get_cells();\n",
       "                for (var i = 0; i < nbb_cells.length; ++i) {\n",
       "                    if (nbb_cells[i].input_prompt_number == nbb_cell_id) {\n",
       "                        if (nbb_cells[i].get_text() == nbb_unformatted_code) {\n",
       "                             nbb_cells[i].set_text(nbb_formatted_code);\n",
       "                        }\n",
       "                        break;\n",
       "                    }\n",
       "                }\n",
       "            }, 500);\n",
       "            "
      ],
      "text/plain": [
       "<IPython.core.display.Javascript object>"
      ]
     },
     "metadata": {},
     "output_type": "display_data"
    }
   ],
   "source": [
    "# Aggregate data_geo by total_route_times \n",
    "travel_time = data_geo.dissolve(by='pt_m_t')\n",
    "# reset index and drop index col -- drop first row containing invalid data\n",
    "travel_time = travel_time.reset_index(drop=True)"
   ]
  },
  {
   "cell_type": "code",
   "execution_count": 8,
   "metadata": {},
   "outputs": [
    {
     "data": {
      "application/javascript": [
       "\n",
       "            setTimeout(function() {\n",
       "                var nbb_cell_id = 8;\n",
       "                var nbb_unformatted_code = \"travel_time = data_geo[['pt_m_t','geometry']]\";\n",
       "                var nbb_formatted_code = \"travel_time = data_geo[[\\\"pt_m_t\\\", \\\"geometry\\\"]]\";\n",
       "                var nbb_cells = Jupyter.notebook.get_cells();\n",
       "                for (var i = 0; i < nbb_cells.length; ++i) {\n",
       "                    if (nbb_cells[i].input_prompt_number == nbb_cell_id) {\n",
       "                        if (nbb_cells[i].get_text() == nbb_unformatted_code) {\n",
       "                             nbb_cells[i].set_text(nbb_formatted_code);\n",
       "                        }\n",
       "                        break;\n",
       "                    }\n",
       "                }\n",
       "            }, 500);\n",
       "            "
      ],
      "text/plain": [
       "<IPython.core.display.Javascript object>"
      ]
     },
     "metadata": {},
     "output_type": "display_data"
    }
   ],
   "source": [
    "travel_time = data_geo[['pt_m_t','geometry']]"
   ]
  },
  {
   "cell_type": "markdown",
   "metadata": {},
   "source": [
    "# Travel Times to Suomenlinna Sea Fortress & Temppeliaukio Church (Rock Church)"
   ]
  },
  {
   "cell_type": "code",
   "execution_count": 9,
   "metadata": {},
   "outputs": [
    {
     "data": {
      "application/javascript": [
       "\n",
       "            setTimeout(function() {\n",
       "                var nbb_cell_id = 9;\n",
       "                var nbb_unformatted_code = \"# Select Suomenlinna\\nsuomenlinna = sites_of_interest.iloc[[0]]\\n# Ensure both mappings are of the same CRS\\nsuomenlinna = suomenlinna.to_crs(crs=data_geo.crs)\";\n",
       "                var nbb_formatted_code = \"# Select Suomenlinna\\nsuomenlinna = sites_of_interest.iloc[[0]]\\n# Ensure both mappings are of the same CRS\\nsuomenlinna = suomenlinna.to_crs(crs=data_geo.crs)\";\n",
       "                var nbb_cells = Jupyter.notebook.get_cells();\n",
       "                for (var i = 0; i < nbb_cells.length; ++i) {\n",
       "                    if (nbb_cells[i].input_prompt_number == nbb_cell_id) {\n",
       "                        if (nbb_cells[i].get_text() == nbb_unformatted_code) {\n",
       "                             nbb_cells[i].set_text(nbb_formatted_code);\n",
       "                        }\n",
       "                        break;\n",
       "                    }\n",
       "                }\n",
       "            }, 500);\n",
       "            "
      ],
      "text/plain": [
       "<IPython.core.display.Javascript object>"
      ]
     },
     "metadata": {},
     "output_type": "display_data"
    }
   ],
   "source": [
    "# Select Suomenlinna\n",
    "suomenlinna = sites_of_interest.iloc[[0]]\n",
    "# Ensure both mappings are of the same CRS\n",
    "suomenlinna = suomenlinna.to_crs(crs=data_geo.crs)"
   ]
  },
  {
   "cell_type": "code",
   "execution_count": 10,
   "metadata": {},
   "outputs": [
    {
     "data": {
      "application/javascript": [
       "\n",
       "            setTimeout(function() {\n",
       "                var nbb_cell_id = 10;\n",
       "                var nbb_unformatted_code = \"# Select Suomenlinna\\nrock_church = sites_of_interest.iloc[[1]]\\n# Ensure both mappings are of the same CRS\\nrock_church = rock_church.to_crs(crs=data_geo.crs)\";\n",
       "                var nbb_formatted_code = \"# Select Suomenlinna\\nrock_church = sites_of_interest.iloc[[1]]\\n# Ensure both mappings are of the same CRS\\nrock_church = rock_church.to_crs(crs=data_geo.crs)\";\n",
       "                var nbb_cells = Jupyter.notebook.get_cells();\n",
       "                for (var i = 0; i < nbb_cells.length; ++i) {\n",
       "                    if (nbb_cells[i].input_prompt_number == nbb_cell_id) {\n",
       "                        if (nbb_cells[i].get_text() == nbb_unformatted_code) {\n",
       "                             nbb_cells[i].set_text(nbb_formatted_code);\n",
       "                        }\n",
       "                        break;\n",
       "                    }\n",
       "                }\n",
       "            }, 500);\n",
       "            "
      ],
      "text/plain": [
       "<IPython.core.display.Javascript object>"
      ]
     },
     "metadata": {},
     "output_type": "display_data"
    }
   ],
   "source": [
    "# Select Suomenlinna\n",
    "rock_church = sites_of_interest.iloc[[1]]\n",
    "# Ensure both mappings are of the same CRS\n",
    "rock_church = rock_church.to_crs(crs=data_geo.crs)"
   ]
  },
  {
   "cell_type": "code",
   "execution_count": 11,
   "metadata": {},
   "outputs": [
    {
     "data": {
      "image/png": "[encoded data removed]",
      "text/plain": [
       "<Figure size 432x288 with 2 Axes>"
      ]
     },
     "metadata": {
      "needs_background": "light"
     },
     "output_type": "display_data"
    },
    {
     "data": {
      "application/javascript": [
       "\n",
       "            setTimeout(function() {\n",
       "                var nbb_cell_id = 11;\n",
       "                var nbb_unformatted_code = \"fig, ax = plt.subplots(figsize=(6,4))\\n\\n# Plotting\\ntravel_time.plot(ax=ax, column = \\\"pt_m_t\\\",\\n          linewidth=0.03, \\n          cmap=\\\"Spectral\\\",\\n          vmin=0, vmax=40,\\n          legend=True, \\n          legend_kwds={'label': \\\"Travel time by public transportation in midday traffic (min)\\\"})\\n\\nsuomenlinna.plot(ax=ax, color='black', markersize=35)\\nrock_church.plot(ax=ax, color='brown', markersize=35)\\n\\nroads.plot(ax=ax, color=\\\"grey\\\", linewidth=1)\\n\\n# Set title and legend to plot\\nax.set_title('Sites - Travel times')\\n\\n# Zoom\\nax.set_xlim([375000, 404000])\\nax.set_ylim([6667000, 6691000])\\n\\n# Remove empty whitespace around the plots\\nplt.tight_layout()\";\n",
       "                var nbb_formatted_code = \"fig, ax = plt.subplots(figsize=(6, 4))\\n\\n# Plotting\\ntravel_time.plot(\\n    ax=ax,\\n    column=\\\"pt_m_t\\\",\\n    linewidth=0.03,\\n    cmap=\\\"Spectral\\\",\\n    vmin=0,\\n    vmax=40,\\n    legend=True,\\n    legend_kwds={\\n        \\\"label\\\": \\\"Travel time by public transportation in midday traffic (min)\\\"\\n    },\\n)\\n\\nsuomenlinna.plot(ax=ax, color=\\\"black\\\", markersize=35)\\nrock_church.plot(ax=ax, color=\\\"brown\\\", markersize=35)\\n\\nroads.plot(ax=ax, color=\\\"grey\\\", linewidth=1)\\n\\n# Set title and legend to plot\\nax.set_title(\\\"Sites - Travel times\\\")\\n\\n# Zoom\\nax.set_xlim([375000, 404000])\\nax.set_ylim([6667000, 6691000])\\n\\n# Remove empty whitespace around the plots\\nplt.tight_layout()\";\n",
       "                var nbb_cells = Jupyter.notebook.get_cells();\n",
       "                for (var i = 0; i < nbb_cells.length; ++i) {\n",
       "                    if (nbb_cells[i].input_prompt_number == nbb_cell_id) {\n",
       "                        if (nbb_cells[i].get_text() == nbb_unformatted_code) {\n",
       "                             nbb_cells[i].set_text(nbb_formatted_code);\n",
       "                        }\n",
       "                        break;\n",
       "                    }\n",
       "                }\n",
       "            }, 500);\n",
       "            "
      ],
      "text/plain": [
       "<IPython.core.display.Javascript object>"
      ]
     },
     "metadata": {},
     "output_type": "display_data"
    }
   ],
   "source": [
    "fig, ax = plt.subplots(figsize=(6,4))\n",
    "\n",
    "# Plotting\n",
    "travel_time.plot(ax=ax, column = \"pt_m_t\",\n",
    "          linewidth=0.03, \n",
    "          cmap=\"Spectral\",\n",
    "          vmin=0, vmax=40,\n",
    "          legend=True, \n",
    "          legend_kwds={'label': \"Travel time by public transportation in midday traffic (min)\"})\n",
    "\n",
    "suomenlinna.plot(ax=ax, color='black', markersize=35)\n",
    "rock_church.plot(ax=ax, color='brown', markersize=35)\n",
    "\n",
    "roads.plot(ax=ax, color=\"grey\", linewidth=1)\n",
    "\n",
    "# Set title and legend to plot\n",
    "ax.set_title('Sites - Travel times')\n",
    "\n",
    "# Zoom\n",
    "ax.set_xlim([375000, 404000])\n",
    "ax.set_ylim([6667000, 6691000])\n",
    "\n",
    "# Remove empty whitespace around the plots\n",
    "plt.tight_layout()"
   ]
  }
 ],
 "metadata": {
  "kernelspec": {
   "display_name": "Python 3",
   "language": "python",
   "name": "python3"
  },
  "language_info": {
   "codemirror_mode": {
    "name": "ipython",
    "version": 3
   },
   "file_extension": ".py",
   "mimetype": "text/x-python",
   "name": "python",
   "nbconvert_exporter": "python",
   "pygments_lexer": "ipython3",
   "version": "3.8.5"
  }
 },
 "nbformat": 4,
 "nbformat_minor": 4
}

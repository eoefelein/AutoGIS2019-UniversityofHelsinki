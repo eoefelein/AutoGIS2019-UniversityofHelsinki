{
 "cells": [
  {
   "cell_type": "markdown",
   "metadata": {},
   "source": [
    "## Problem 4: What is the closest shopping center from your home / work? (5 points)\n",
    "\n",
    "In the last problem you should find out the closest shopping center from two different locations a) your home and b) work place. \n",
    "\n",
    "**Steps**:\n",
    "\n",
    " - Create a txt-file called `activity_locations.txt` (use same formatting as in Problem 1) with two columns:\n",
    "    - `id`: unique id for each row\n",
    "    - `addr`:  address of your work and home (or any two addresses in the Helsinki Region.)\n",
    "    \n",
    "Save the text file into this repository.\n",
    "    \n",
    " - Read those addresses using pandas and geocode the addresses.\n",
    " - Find out the nearest shopping center to these points using Shapely `nearest_points`.\n",
    " - Print out the name of the shopping center that is nearest to a) home and b) work. For example: `Shopping center closest to home: REDI`."
   ]
  },
  {
   "cell_type": "code",
   "execution_count": 1,
   "metadata": {},
   "outputs": [
    {
     "name": "stderr",
     "output_type": "stream",
     "text": [
      "/srv/conda/envs/notebook/lib/python3.8/site-packages/geopandas/_compat.py:84: UserWarning: The Shapely GEOS version (3.8.0-CAPI-1.13.1 ) is incompatible with the GEOS version PyGEOS was compiled with (3.9.0-CAPI-1.16.2). Conversions between both will be slow.\n",
      "  warnings.warn(\n"
     ]
    }
   ],
   "source": [
    "# Import modules\n",
    "import requests\n",
    "import geojson\n",
    "import geopy\n",
    "import pygeos\n",
    "import geopandas as gpd\n",
    "from geopandas.tools import geocode\n",
    "from pyproj import CRS\n",
    "import pandas as pd\n",
    "from shapely.geometry import Point, MultiPoint\n",
    "from shapely.ops import nearest_points"
   ]
  },
  {
   "cell_type": "code",
   "execution_count": 2,
   "metadata": {
    "deletable": false,
    "nbgrader": {
     "cell_type": "code",
     "checksum": "f8d9bb1491a5675d77264cebbf529f88",
     "grade": false,
     "grade_id": "read_data",
     "locked": false,
     "schema_version": 3,
     "solution": true
    }
   },
   "outputs": [
    {
     "data": {
      "text/html": [
       "<div>\n",
       "<style scoped>\n",
       "    .dataframe tbody tr th:only-of-type {\n",
       "        vertical-align: middle;\n",
       "    }\n",
       "\n",
       "    .dataframe tbody tr th {\n",
       "        vertical-align: top;\n",
       "    }\n",
       "\n",
       "    .dataframe thead th {\n",
       "        text-align: right;\n",
       "    }\n",
       "</style>\n",
       "<table border=\"1\" class=\"dataframe\">\n",
       "  <thead>\n",
       "    <tr style=\"text-align: right;\">\n",
       "      <th></th>\n",
       "      <th>id</th>\n",
       "      <th>addr</th>\n",
       "    </tr>\n",
       "  </thead>\n",
       "  <tbody>\n",
       "    <tr>\n",
       "      <th>0</th>\n",
       "      <td>1000</td>\n",
       "      <td>Kalevankatu 3 A 45, Kamppi, 00100 Helsinki, Fi...</td>\n",
       "    </tr>\n",
       "    <tr>\n",
       "      <th>1</th>\n",
       "      <td>1001</td>\n",
       "      <td>Lutherinkatu 3, Helsinki 00100 Finland</td>\n",
       "    </tr>\n",
       "  </tbody>\n",
       "</table>\n",
       "</div>"
      ],
      "text/plain": [
       "     id                                               addr\n",
       "0  1000  Kalevankatu 3 A 45, Kamppi, 00100 Helsinki, Fi...\n",
       "1  1001             Lutherinkatu 3, Helsinki 00100 Finland"
      ]
     },
     "execution_count": 2,
     "metadata": {},
     "output_type": "execute_result"
    }
   ],
   "source": [
    "# read in input files\n",
    "activities = pd.read_csv('activity_locations.txt', sep=\";\")\n",
    "activities"
   ]
  },
  {
   "cell_type": "code",
   "execution_count": 3,
   "metadata": {
    "deletable": false,
    "nbgrader": {
     "cell_type": "code",
     "checksum": "cde51574e6cd404266ead2aad7ac5938",
     "grade": false,
     "grade_id": "geocode",
     "locked": false,
     "schema_version": 3,
     "solution": true,
     "task": false
    }
   },
   "outputs": [
    {
     "data": {
      "text/html": [
       "<div>\n",
       "<style scoped>\n",
       "    .dataframe tbody tr th:only-of-type {\n",
       "        vertical-align: middle;\n",
       "    }\n",
       "\n",
       "    .dataframe tbody tr th {\n",
       "        vertical-align: top;\n",
       "    }\n",
       "\n",
       "    .dataframe thead th {\n",
       "        text-align: right;\n",
       "    }\n",
       "</style>\n",
       "<table border=\"1\" class=\"dataframe\">\n",
       "  <thead>\n",
       "    <tr style=\"text-align: right;\">\n",
       "      <th></th>\n",
       "      <th>geometry</th>\n",
       "      <th>address</th>\n",
       "    </tr>\n",
       "  </thead>\n",
       "  <tbody>\n",
       "    <tr>\n",
       "      <th>0</th>\n",
       "      <td>POINT (24.93369 60.16583)</td>\n",
       "      <td>Kalevankatu, Kamppi, Eteläinen suurpiiri, Hels...</td>\n",
       "    </tr>\n",
       "    <tr>\n",
       "      <th>1</th>\n",
       "      <td>POINT (24.92523 60.17296)</td>\n",
       "      <td>Temppeliaukion kirkko, 3, Lutherinkatu, Etu-Tö...</td>\n",
       "    </tr>\n",
       "  </tbody>\n",
       "</table>\n",
       "</div>"
      ],
      "text/plain": [
       "                    geometry  \\\n",
       "0  POINT (24.93369 60.16583)   \n",
       "1  POINT (24.92523 60.17296)   \n",
       "\n",
       "                                             address  \n",
       "0  Kalevankatu, Kamppi, Eteläinen suurpiiri, Hels...  \n",
       "1  Temppeliaukion kirkko, 3, Lutherinkatu, Etu-Tö...  "
      ]
     },
     "execution_count": 3,
     "metadata": {},
     "output_type": "execute_result"
    }
   ],
   "source": [
    "# Geocode activity locations\n",
    "geo = geocode(activities['addr'], provider=\"Nominatim\", user_agent=\"autogis_VH\", timeout=10)\n",
    "geo"
   ]
  },
  {
   "cell_type": "code",
   "execution_count": 4,
   "metadata": {
    "deletable": false,
    "nbgrader": {
     "cell_type": "code",
     "checksum": "866e8fe33cb5b2e5f7d3fbecd76130f1",
     "grade": false,
     "grade_id": "check_crs",
     "locked": false,
     "schema_version": 3,
     "solution": true,
     "task": false
    }
   },
   "outputs": [],
   "source": [
    "# Check coordinate reference system information (re-project/define if needed)\n",
    "geo = geo.to_crs(epsg=3879)"
   ]
  },
  {
   "cell_type": "code",
   "execution_count": 5,
   "metadata": {
    "deletable": false,
    "nbgrader": {
     "cell_type": "code",
     "checksum": "5c1d055ae749e65f0c63e487b074ad21",
     "grade": false,
     "grade_id": "nearest_points",
     "locked": false,
     "schema_version": 3,
     "solution": true,
     "task": false
    }
   },
   "outputs": [],
   "source": [
    "# Find the closest shopping center for each activity location (closest shopping center from\n",
    "# and closest shopping center from work) and print out the results:\n",
    "hostel = geo.geometry[0]\n",
    "church = geo.geometry[1]"
   ]
  },
  {
   "cell_type": "code",
   "execution_count": 6,
   "metadata": {},
   "outputs": [],
   "source": [
    "# read in input files\n",
    "shopping_centers = gpd.read_file(\"shopping_centers_ouput/shopping_centers_ouput.shp\")"
   ]
  },
  {
   "cell_type": "code",
   "execution_count": 7,
   "metadata": {},
   "outputs": [],
   "source": [
    "dest_point = []\n",
    "for idk, row in shopping_centers['geometry'].items():\n",
    "    dest_point.append(row)"
   ]
  },
  {
   "cell_type": "code",
   "execution_count": 8,
   "metadata": {},
   "outputs": [],
   "source": [
    "shopping_points = MultiPoint(dest_point)"
   ]
  },
  {
   "cell_type": "code",
   "execution_count": 9,
   "metadata": {},
   "outputs": [
    {
     "data": {
      "text/plain": [
       "shapely.geometry.multipoint.MultiPoint"
      ]
     },
     "execution_count": 9,
     "metadata": {},
     "output_type": "execute_result"
    }
   ],
   "source": [
    "type(shopping_points)"
   ]
  },
  {
   "cell_type": "code",
   "execution_count": 10,
   "metadata": {},
   "outputs": [],
   "source": [
    "nearest_geoms = nearest_points(hostel, shopping_points)"
   ]
  },
  {
   "cell_type": "code",
   "execution_count": 11,
   "metadata": {},
   "outputs": [
    {
     "name": "stdout",
     "output_type": "stream",
     "text": [
      "POINT (25496318.70761112 6672550.433618273)\n"
     ]
    }
   ],
   "source": [
    "print(nearest_geoms[0])"
   ]
  },
  {
   "cell_type": "code",
   "execution_count": 12,
   "metadata": {},
   "outputs": [
    {
     "name": "stdout",
     "output_type": "stream",
     "text": [
      "POINT (25496286.91137278 6672913.768374901)\n"
     ]
    }
   ],
   "source": [
    "print(nearest_geoms[1])"
   ]
  },
  {
   "cell_type": "code",
   "execution_count": null,
   "metadata": {
    "deletable": false,
    "nbgrader": {
     "cell_type": "code",
     "checksum": "9097d06476510270641179f9a799bad7",
     "grade": true,
     "grade_id": "problem_4_check",
     "locked": false,
     "points": 5,
     "schema_version": 3,
     "solution": true
    }
   },
   "outputs": [],
   "source": []
  }
 ],
 "metadata": {
  "anaconda-cloud": {},
  "kernelspec": {
   "display_name": "Python 3",
   "language": "python",
   "name": "python3"
  },
  "language_info": {
   "codemirror_mode": {
    "name": "ipython",
    "version": 3
   },
   "file_extension": ".py",
   "mimetype": "text/x-python",
   "name": "python",
   "nbconvert_exporter": "python",
   "pygments_lexer": "ipython3",
   "version": "3.8.5"
  }
 },
 "nbformat": 4,
 "nbformat_minor": 4
}

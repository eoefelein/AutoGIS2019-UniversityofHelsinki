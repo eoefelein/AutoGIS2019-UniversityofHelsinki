{
 "cells": [
  {
   "cell_type": "markdown",
   "metadata": {},
   "source": [
    "## Problem 1: Geocode shopping centers (5 points)\n",
    "\n",
    "The overall aim of problems 1-3 is to find out **how many people live within a walking distance (1.5 km) from certain shopping centers in Helsinki**.\n",
    "\n",
    "In problem 1 aim is to find out the addresses of shopping centers and to retreive numercal coordinates for these addresses. As an output, we will have a Shapefile called `shopping_centers.shp` which contains the geocoded result.\n",
    "\n",
    "**Preparation:** Find out the addresses for following shopping centers from the internet, and write the addresses into a text file called `shopping_centers.txt`:\n",
    "\n",
    " - Itis\n",
    " - Forum\n",
    " - Iso-omena\n",
    " - Sello\n",
    " - Jumbo\n",
    " - REDI\n",
    " - Tripla \n",
    " \n",
    " *Hint for \"Tripla\": This shopping center opened in October 10 2019, and if you are doing this exercise soon after that, the official address might not yet be in online databases. \n",
    " Check for an address nearby the Pasila railway station on OpenStreetMap.org and use that as input.*\n",
    "\n",
    "`shopping_centers.txt` should have semicolon (`;`) as a separator, and the file should include the following columns:\n",
    "\n",
    "- ``id`` (integer) containing an unique identifier for each shopping center\n",
    "- ``name`` (string) of each shopping center\n",
    "- ``addr`` (string) the address \n",
    "\n",
    "\n",
    "See and example of how to format the text file [in the lesson 3 materials](https://automating-gis-processes.github.io/site/master/notebooks/L3/geocoding_in_geopandas.html). Save (and upload) the text file into your exercise repository.\n",
    "\n",
    "- Read `shopping_centers.txt` that you just created into a pandas DataFrame called ``data``:"
   ]
  },
  {
   "cell_type": "code",
   "execution_count": 1,
   "metadata": {
    "deletable": false,
    "nbgrader": {
     "cell_type": "code",
     "checksum": "276d60ad6d7f474cc5214b8c85a0d5e4",
     "grade": false,
     "grade_id": "read_data",
     "locked": false,
     "schema_version": 3,
     "solution": true
    }
   },
   "outputs": [
    {
     "name": "stderr",
     "output_type": "stream",
     "text": [
      "/srv/conda/envs/notebook/lib/python3.8/site-packages/geopandas/_compat.py:84: UserWarning: The Shapely GEOS version (3.8.0-CAPI-1.13.1 ) is incompatible with the GEOS version PyGEOS was compiled with (3.9.0-CAPI-1.16.2). Conversions between both will be slow.\n",
      "  warnings.warn(\n"
     ]
    }
   ],
   "source": [
    "# Import modules\n",
    "import requests\n",
    "import geojson\n",
    "import geopy\n",
    "import pygeos\n",
    "import geopandas as gpd\n",
    "from geopandas.tools import geocode\n",
    "from pyproj import CRS\n",
    "import pandas as pd\n",
    "\n",
    "# Read the data (replace \"None\" with your own code)\n",
    "data = pd.read_csv('addresses.txt', sep=\";\")"
   ]
  },
  {
   "cell_type": "code",
   "execution_count": 2,
   "metadata": {
    "deletable": false,
    "editable": false,
    "nbgrader": {
     "cell_type": "code",
     "checksum": "4e90dc0406dff7a0f4b0860443092087",
     "grade": true,
     "grade_id": "problem_1_read_data_tests",
     "locked": true,
     "points": 1,
     "schema_version": 3,
     "solution": false
    }
   },
   "outputs": [
    {
     "name": "stdout",
     "output_type": "stream",
     "text": [
      "                                           id  \\\n",
      "1000                               Ruoholahti   \n",
      "1001                            Kampin Keskus   \n",
      "1002             Stockmann Helsingin Keskusta   \n",
      "1003                              Kauppakesku   \n",
      "1005                             Verkkokauppa   \n",
      "1006  Kontulantie 18, 00940 Helsinki, Finland   \n",
      "1007                     Kontulan Ostoskeskus   \n",
      "1008                         Kmarket Puistori   \n",
      "1009                              Thermoplast   \n",
      "1010                         Ravintola Henrik   \n",
      "1011         Helsinki Central Railway Station   \n",
      "1012                              Kuparikulma   \n",
      "1013                                  Kaarela   \n",
      "1014                            Palmia Duetto   \n",
      "1015                                Ala-Malmi   \n",
      "1016                       Marja Palmujoki Ky   \n",
      "1017                        Malminkartanontie   \n",
      "1018                   Oulunkylän Vanha asema   \n",
      "1019                            Pasilan Asema   \n",
      "1020                           Pitäjänmäentie   \n",
      "1021                           Iittala Outlet   \n",
      "1022                          Pikku-Santorini   \n",
      "1023                              Danske Bank   \n",
      "1024                             Vuosaarentie   \n",
      "1025                    Vanhankaupunginlahden   \n",
      "1026                             Raitamaantie   \n",
      "1027                               Sornalinen   \n",
      "1028                           Skidlöparvägen   \n",
      "1029       Kulosaaren metroaseman yleisövessa   \n",
      "1030                                Hakaniemi   \n",
      "1031                   Hietalahden kirpputori   \n",
      "1032                          Downtown Studio   \n",
      "1033                           Easy Cycles Oy   \n",
      "1034                                   Takeda   \n",
      "\n",
      "                                               addr  \n",
      "1000       Itämerenkatu 14, 00101 Helsinki, Finland  \n",
      "1001          Kampinkuja 1, 00100 Helsinki, Finland  \n",
      "1002           Kaivokatu 8, 00101 Helsinki, Finland  \n",
      "1003  Hermannin rantatie 1, 00580 Helsinki, Finland  \n",
      "1005     Tyynenmerenkatu 9, 00220 Helsinki, Finland  \n",
      "1006                                            NaN  \n",
      "1007            Itäväylä 3, 00950 Helsinki, Finland  \n",
      "1008  Tapulikaupungintie 3, 00750 Helsinki, Finland  \n",
      "1009        Sompionpolku 2, 00730 Helsinki, Finland  \n",
      "1010            Atomitie 5, 00370 Helsinki, Finland  \n",
      "1011       Rautatientori 1, 00100 Helsinki, Finland  \n",
      "1012           Kuparitie 8, 00440 Helsinki, Finland  \n",
      "1013          Rumpupolku 8, 00420 Helsinki, Finland  \n",
      "1014       Mäkitorpantie 1, 00620 Helsinki, Finland  \n",
      "1015        Malminkaari 15, 00700 Helsinki, Finland  \n",
      "1016            Kylätie 23, 00320 Helsinki, Finland  \n",
      "1017  Malminkartanontie 17, 00410 Helsinki, Finland  \n",
      "1018    Oulunkylän tori 2b, 00640 Helsinki, Finland  \n",
      "1019        Ratapihantie 6, 00101 Helsinki, Finland  \n",
      "1020     Pitäjänmäentie 15, 00370 Helsinki, Finland  \n",
      "1021          Eskolantie 2, 00720 Helsinki, Finland  \n",
      "1022      Tattariharjuntie, 00700 Helsinki, Finland  \n",
      "1023      Tallinnanaukio 1, 00930 Helsinki, Finland  \n",
      "1024      Tyynylaavantie 7, 00980 Helsinki, Finland  \n",
      "1025       Myllypurontie 5, 00920 Helsinki, Finland  \n",
      "1026    Mellunmäenraitio 6, 00970 Helsinki, Finland  \n",
      "1027         Vaasanpolku 2, 00101 Helsinki, Finland  \n",
      "1028        Hiihtäjäntie 2, 00810 Helsinki, Finland  \n",
      "1029   Ukko-Pekan porras 2, 00570 Helsinki, Finland  \n",
      "1030    Siltasaarenkatu 16, 00530 Helsinki, Finland  \n",
      "1031  Urho Kekkosen katu 1, 00100 Helsinki, Finland  \n",
      "1032    Ruoholahdenkatu 17, 00101 Helsinki, Finland  \n",
      "1033     Tyynenmerenkatu 3, 00220 Helsinki, Finland  \n",
      "1034          Vilhonkatu 4, 00101 Helsinki, Finland  \n"
     ]
    }
   ],
   "source": [
    "#NON-EDITABLE TEST CELL\n",
    "# Check your input data\n",
    "print(data)"
   ]
  },
  {
   "cell_type": "markdown",
   "metadata": {},
   "source": [
    "- Geocode the addresses using the Nominatim geocoding service. Store the output in a variable called `geo`:"
   ]
  },
  {
   "cell_type": "code",
   "execution_count": 3,
   "metadata": {
    "deletable": false,
    "nbgrader": {
     "cell_type": "code",
     "checksum": "263051ed5136dfe8571b4fb4b4d46019",
     "grade": false,
     "grade_id": "geocode",
     "locked": false,
     "schema_version": 3,
     "solution": true
    }
   },
   "outputs": [],
   "source": [
    "# Geocode the addresses using Nominatim\n",
    "geo = geocode(data['addr'], provider=\"Nominatim\", user_agent=\"autogis_VH\", timeout=10)"
   ]
  },
  {
   "cell_type": "code",
   "execution_count": 4,
   "metadata": {
    "deletable": false,
    "editable": false,
    "nbgrader": {
     "cell_type": "code",
     "checksum": "a3b8c4fef69c89dbb3299b84c11d3db7",
     "grade": true,
     "grade_id": "problem_1_gdf_test",
     "locked": true,
     "points": 1,
     "schema_version": 3,
     "solution": false,
     "task": false
    }
   },
   "outputs": [
    {
     "name": "stdout",
     "output_type": "stream",
     "text": [
      "                       geometry  \\\n",
      "1000  POINT (24.91556 60.16320)   \n",
      "1001  POINT (24.93169 60.16902)   \n",
      "1002  POINT (24.94179 60.16989)   \n",
      "1003  POINT (24.97759 60.19361)   \n",
      "1005  POINT (24.92160 60.15665)   \n",
      "1006  POINT (11.04803 46.31448)   \n",
      "1007  POINT (25.10985 60.22126)   \n",
      "1008  POINT (25.03480 60.27332)   \n",
      "1009  POINT (25.02880 60.26323)   \n",
      "1010  POINT (24.87197 60.22244)   \n",
      "1011  POINT (24.93985 60.17038)   \n",
      "1012  POINT (24.88281 60.23080)   \n",
      "1013  POINT (24.87855 60.24018)   \n",
      "1014  POINT (24.94801 60.22179)   \n",
      "1015  POINT (25.01303 60.25134)   \n",
      "1016  POINT (24.89418 60.21722)   \n",
      "1017  POINT (24.86690 60.25171)   \n",
      "1018  POINT (24.96566 60.22982)   \n",
      "1019  POINT (24.93435 60.19857)   \n",
      "1020  POINT (24.86084 60.22402)   \n",
      "1021  POINT (24.99362 60.24365)   \n",
      "1022  POINT (25.02063 60.24355)   \n",
      "1023  POINT (25.07835 60.20982)   \n",
      "1024  POINT (25.13647 60.20707)   \n",
      "1025  POINT (25.07530 60.22457)   \n",
      "1026  POINT (25.10979 60.23785)   \n",
      "1027  POINT (24.96142 60.18779)   \n",
      "1028  POINT (25.02800 60.19426)   \n",
      "1029  POINT (25.00681 60.18872)   \n",
      "1030  POINT (24.94954 60.17949)   \n",
      "1031  POINT (24.93312 60.16909)   \n",
      "1032  POINT (24.92477 60.16488)   \n",
      "1033  POINT (24.92119 60.15890)   \n",
      "1034  POINT (24.94709 60.17191)   \n",
      "\n",
      "                                                address  \n",
      "1000  Ruoholahti, 14, Itämerenkatu, Ruoholahti, Läns...  \n",
      "1001  Kamppi, 1, Kampinkuja, Kamppi, Eteläinen suurp...  \n",
      "1002  Kauppakeskus Citycenter, 8, Kaivokatu, Keskust...  \n",
      "1003  Hermannin rantatie, Hermanninmäki, Hermanni, K...  \n",
      "1005  Hesburger, 9, Tyynenmerenkatu, Jätkäsaari, Län...  \n",
      "1006  Nanno, Ville d'Anaunia, Comunità della Val di ...  \n",
      "1007  Itäväylä, Vartioharju, Vartiokylä, Itäinen suu...  \n",
      "1008  Tapulikaupungintie, Tapulikaupunki, Suutarila,...  \n",
      "1009  Sompionpolku, Tapanila, Tapaninkylä, Koillinen...  \n",
      "1010  5, Atomitie, Pitäjänmäen teollisuusalue, Pitäj...  \n",
      "1011  Rautatientori, 2, Kaivokatu, Keskusta, Kluuvi,...  \n",
      "1012  Kuparitie, Lassila, Haaga, Läntinen suurpiiri,...  \n",
      "1013  Rumpupolku, Kannelmäki, Kaarela, Läntinen suur...  \n",
      "1014  K-Supermarket Mustapekka, 1, Mäkitorpantie, Pa...  \n",
      "1015  15, Malminkaari, Ala-Malmi, Malmi, Koillinen s...  \n",
      "1016  23, Kylätie, Etelä-Haaga, Haaga, Läntinen suur...  \n",
      "1017  Malminkartanontie, Malminkartano, Kaarela, Län...  \n",
      "1018  Oulunkylän tori, Patola, Oulunkylä, Pohjoinen ...  \n",
      "1019  6, Ratapihantie, Itä-Pasila, Pasila, Keskinen ...  \n",
      "1020  Pizza Benitto, 15, Pitäjänmäentie, Reimarla, P...  \n",
      "1021  K-Market Pukinmäki, 2, Eskolantie, Savela, Puk...  \n",
      "1022  Tattariharjuntie, Ala-Malmi, Malmi, Koillinen ...  \n",
      "1023  Danske Bank, 1, Tallinnanaukio, Itäkeskus, Var...  \n",
      "1024  Tyynylaavantie, Keski-Vuosaari, Vuosaari, Itäi...  \n",
      "1025  Myllypurontie, Myllypuro, Vartiokylä, Itäinen ...  \n",
      "1026  Mellunmäenraitio, Mellunmäki, Mellunkylä, Itäi...  \n",
      "1027  Vaasanpolku, Harju, Alppiharju, Keskinen suurp...  \n",
      "1028  Alko Herttoniemi Hertta, 2, Hiihtäjäntie, Läns...  \n",
      "1029  Metro Kulosaari, 2, Ukko-Pekan porras, Kulosaa...  \n",
      "1030  Instrumentarium Hakaniemi, 16, Siltasaarenkatu...  \n",
      "1031  Kampin keskus, 1, Urho Kekkosen katu, Kamppi, ...  \n",
      "1032  Ruoholahdenkatu, Hietalahti, Kamppi, Eteläinen...  \n",
      "1033  Easy Cycles, 3, Tyynenmerenkatu, Jätkäsaari, L...  \n",
      "1034  Oluthuone Kaisla, 4, Vilhonkatu, Kaisaniemi, K...  \n"
     ]
    }
   ],
   "source": [
    "#NON-EDITABLE TEST CELL\n",
    "# Check the geocoded output\n",
    "print(geo)"
   ]
  },
  {
   "cell_type": "code",
   "execution_count": 5,
   "metadata": {
    "deletable": false,
    "editable": false,
    "nbgrader": {
     "cell_type": "code",
     "checksum": "f2e432e605330a668b5bfdbbbd12569e",
     "grade": true,
     "grade_id": "problem_1_geocode_tests",
     "locked": true,
     "points": 1,
     "schema_version": 3,
     "solution": false
    }
   },
   "outputs": [
    {
     "name": "stdout",
     "output_type": "stream",
     "text": [
      "<class 'geopandas.geodataframe.GeoDataFrame'>\n"
     ]
    }
   ],
   "source": [
    "#NON-EDITABLE TEST CELL\n",
    "# Check the data type (should be a GeoDataFrame!)\n",
    "print(type(geo))"
   ]
  },
  {
   "cell_type": "markdown",
   "metadata": {},
   "source": [
    "Check that the coordinate reference system of the geocoded result is correctly defined, and **reproject the layer into ETRS GK-25** (EPSG:3879):"
   ]
  },
  {
   "cell_type": "code",
   "execution_count": 6,
   "metadata": {
    "deletable": false,
    "nbgrader": {
     "cell_type": "code",
     "checksum": "472a4283af2c3532f40db1caa56100a7",
     "grade": false,
     "grade_id": "crs",
     "locked": false,
     "schema_version": 3,
     "solution": true
    }
   },
   "outputs": [
    {
     "data": {
      "text/plain": [
       "<Geographic 2D CRS: EPSG:4326>\n",
       "Name: WGS 84\n",
       "Axis Info [ellipsoidal]:\n",
       "- Lat[north]: Geodetic latitude (degree)\n",
       "- Lon[east]: Geodetic longitude (degree)\n",
       "Area of Use:\n",
       "- name: World.\n",
       "- bounds: (-180.0, -90.0, 180.0, 90.0)\n",
       "Datum: World Geodetic System 1984\n",
       "- Ellipsoid: WGS 84\n",
       "- Prime Meridian: Greenwich"
      ]
     },
     "execution_count": 6,
     "metadata": {},
     "output_type": "execute_result"
    }
   ],
   "source": [
    "# Check that the coordinate reference system of the geocoded result is correctly defined\n",
    "geo.crs"
   ]
  },
  {
   "cell_type": "code",
   "execution_count": 7,
   "metadata": {},
   "outputs": [],
   "source": [
    "# reproject the layer into ETRS GK-25 (EPSG:3879)\n",
    "# Reproject the data\n",
    "geo = geo.to_crs(epsg=3879)"
   ]
  },
  {
   "cell_type": "code",
   "execution_count": 8,
   "metadata": {
    "deletable": false,
    "editable": false,
    "nbgrader": {
     "cell_type": "code",
     "checksum": "764cba257612241267e3b2bcc90b5dcd",
     "grade": true,
     "grade_id": "problem_1_crs_test",
     "locked": true,
     "points": 0.5,
     "schema_version": 3,
     "solution": false
    }
   },
   "outputs": [
    {
     "name": "stdout",
     "output_type": "stream",
     "text": [
      "epsg:3879\n"
     ]
    }
   ],
   "source": [
    "#NON-EDITABLE TEST CELL\n",
    "# Check layer crs\n",
    "print(geo.crs)"
   ]
  },
  {
   "cell_type": "markdown",
   "metadata": {},
   "source": [
    "- Make a table join between the geocoded addresses (``geo``) and the original addresses (``data``) in order to link the numerical coordinates and  the `id` and `name` of each shopping center. \n",
    "- Store the output in a variable called ``geodata`` \n"
   ]
  },
  {
   "cell_type": "code",
   "execution_count": 9,
   "metadata": {
    "deletable": false,
    "nbgrader": {
     "cell_type": "code",
     "checksum": "e5981729844bc6f2bca05c1a615c0f0e",
     "grade": false,
     "grade_id": "join",
     "locked": false,
     "schema_version": 3,
     "solution": true
    }
   },
   "outputs": [],
   "source": [
    "# Join the tables\n",
    "geodata = geo.join(data)"
   ]
  },
  {
   "cell_type": "code",
   "execution_count": 10,
   "metadata": {
    "deletable": false,
    "editable": false,
    "nbgrader": {
     "cell_type": "code",
     "checksum": "98d25baeb42eaeb2701f09f42c8c84c5",
     "grade": true,
     "grade_id": "problem_1_join_test",
     "locked": true,
     "points": 1,
     "schema_version": 3,
     "solution": false
    }
   },
   "outputs": [
    {
     "name": "stdout",
     "output_type": "stream",
     "text": [
      "                              geometry  \\\n",
      "1000  POINT (25495311.608 6672258.695)   \n",
      "1001  POINT (25496207.840 6672906.173)   \n",
      "1002  POINT (25496768.622 6673002.004)   \n",
      "1003  POINT (25498756.841 6675643.904)   \n",
      "1005  POINT (25495645.995 6671528.068)   \n",
      "\n",
      "                                                address  \\\n",
      "1000  Ruoholahti, 14, Itämerenkatu, Ruoholahti, Läns...   \n",
      "1001  Kamppi, 1, Kampinkuja, Kamppi, Eteläinen suurp...   \n",
      "1002  Kauppakeskus Citycenter, 8, Kaivokatu, Keskust...   \n",
      "1003  Hermannin rantatie, Hermanninmäki, Hermanni, K...   \n",
      "1005  Hesburger, 9, Tyynenmerenkatu, Jätkäsaari, Län...   \n",
      "\n",
      "                                id  \\\n",
      "1000                    Ruoholahti   \n",
      "1001                 Kampin Keskus   \n",
      "1002  Stockmann Helsingin Keskusta   \n",
      "1003                   Kauppakesku   \n",
      "1005                  Verkkokauppa   \n",
      "\n",
      "                                               addr  \n",
      "1000       Itämerenkatu 14, 00101 Helsinki, Finland  \n",
      "1001          Kampinkuja 1, 00100 Helsinki, Finland  \n",
      "1002           Kaivokatu 8, 00101 Helsinki, Finland  \n",
      "1003  Hermannin rantatie 1, 00580 Helsinki, Finland  \n",
      "1005     Tyynenmerenkatu 9, 00220 Helsinki, Finland  \n"
     ]
    }
   ],
   "source": [
    "#NON-EDITABLE TEST CELL\n",
    "# Check the join output\n",
    "print(geodata.head())"
   ]
  },
  {
   "cell_type": "code",
   "execution_count": 11,
   "metadata": {},
   "outputs": [
    {
     "data": {
      "text/plain": [
       "<Projected CRS: EPSG:3879>\n",
       "Name: ETRS89 / GK25FIN\n",
       "Axis Info [cartesian]:\n",
       "- N[north]: Northing (metre)\n",
       "- E[east]: Easting (metre)\n",
       "Area of Use:\n",
       "- name: Finland - nominally onshore between 24°30'E and 25°30'E but may be used in adjacent areas if a municipality chooses to use one zone over its whole extent.\n",
       "- bounds: (24.5, 59.94, 25.5, 68.9)\n",
       "Coordinate Operation:\n",
       "- name: Finland Gauss-Kruger zone 25\n",
       "- method: Transverse Mercator\n",
       "Datum: European Terrestrial Reference System 1989\n",
       "- Ellipsoid: GRS 1980\n",
       "- Prime Meridian: Greenwich"
      ]
     },
     "execution_count": 11,
     "metadata": {},
     "output_type": "execute_result"
    }
   ],
   "source": [
    "geodata.crs"
   ]
  },
  {
   "cell_type": "markdown",
   "metadata": {},
   "source": [
    "- Save the output as a Shapefile called `shopping_centers.shp` "
   ]
  },
  {
   "cell_type": "code",
   "execution_count": 12,
   "metadata": {
    "deletable": false,
    "nbgrader": {
     "cell_type": "code",
     "checksum": "b629dc394afb0d2df49c16b3dd227f50",
     "grade": false,
     "grade_id": "save_data",
     "locked": false,
     "schema_version": 3,
     "solution": true
    }
   },
   "outputs": [],
   "source": [
    "# Define output filepath\n",
    "out_fp = \"shopping_centers.shp\"\n",
    "\n",
    "# Save file\n",
    "geodata.to_file(filename=out_fp)"
   ]
  },
  {
   "cell_type": "code",
   "execution_count": 13,
   "metadata": {
    "deletable": false,
    "editable": false,
    "nbgrader": {
     "cell_type": "code",
     "checksum": "80aac786841c50c2fd08ca078bc13a56",
     "grade": true,
     "grade_id": "problem_1_save_data_test",
     "locked": true,
     "points": 0.5,
     "schema_version": 3,
     "solution": false
    }
   },
   "outputs": [
    {
     "name": "stdout",
     "output_type": "stream",
     "text": [
      "Geocoded output is stored in this file: shopping_centers.shp\n"
     ]
    }
   ],
   "source": [
    "#NON-EDITABLE TEST CELL\n",
    "# Print info about output file\n",
    "print(\"Geocoded output is stored in this file:\", out_fp)"
   ]
  },
  {
   "cell_type": "markdown",
   "metadata": {},
   "source": [
    "## Problem 2: Create buffers around shopping centers (5 points)\n",
    "\n",
    "Let's continue with our case study and calculate a 1.5 km buffer around the geocoded points. \n",
    "\n",
    "\n",
    "- Start by creating a new column called `buffer` to ``geodata`` GeoDataFrame:"
   ]
  },
  {
   "cell_type": "code",
   "execution_count": 14,
   "metadata": {
    "deletable": false,
    "nbgrader": {
     "cell_type": "code",
     "checksum": "9c602979bc0a9135d9ea750b6a0da28b",
     "grade": false,
     "grade_id": "new_column",
     "locked": false,
     "schema_version": 3,
     "solution": true
    }
   },
   "outputs": [],
   "source": [
    "geodata['buffer'] = ''"
   ]
  },
  {
   "cell_type": "markdown",
   "metadata": {},
   "source": [
    "- Calculate a 1.5 km buffer for each geocoded point. Store the buffer geometry in the new `buffer` column.\n",
    "\n",
    "Here, you can use the [GeoDataFrame buffer() method](http://geopandas.org/geometric_manipulations.html#GeoSeries.buffer), which uses Shapely's [buffer](http://toblerity.org/shapely/manual.html#object.buffer) in the bacground. You only need to use the `distance` -parameter, don't worry about the other parameters."
   ]
  },
  {
   "cell_type": "code",
   "execution_count": 15,
   "metadata": {
    "deletable": false,
    "nbgrader": {
     "cell_type": "code",
     "checksum": "7ab6ebd4853d746e89d6f8dcdb569c99",
     "grade": false,
     "grade_id": "buffer",
     "locked": false,
     "schema_version": 3,
     "solution": true
    }
   },
   "outputs": [],
   "source": [
    "geodata['buffer'] = geodata['geometry'].apply(lambda x: x.buffer(1.5))"
   ]
  },
  {
   "cell_type": "code",
   "execution_count": 16,
   "metadata": {},
   "outputs": [],
   "source": [
    "geodata = geodata.reset_index(drop=True)"
   ]
  },
  {
   "cell_type": "code",
   "execution_count": 17,
   "metadata": {
    "deletable": false,
    "editable": false,
    "nbgrader": {
     "cell_type": "code",
     "checksum": "e2765a36c4eb2331624d3b990eccfe9f",
     "grade": true,
     "grade_id": "problem_2_column_test",
     "locked": true,
     "points": 1,
     "schema_version": 3,
     "solution": false,
     "task": false
    }
   },
   "outputs": [
    {
     "name": "stdout",
     "output_type": "stream",
     "text": [
      "                           geometry  \\\n",
      "0  POINT (25495311.608 6672258.695)   \n",
      "1  POINT (25496207.840 6672906.173)   \n",
      "2  POINT (25496768.622 6673002.004)   \n",
      "3  POINT (25498756.841 6675643.904)   \n",
      "4  POINT (25495645.995 6671528.068)   \n",
      "\n",
      "                                             address  \\\n",
      "0  Ruoholahti, 14, Itämerenkatu, Ruoholahti, Läns...   \n",
      "1  Kamppi, 1, Kampinkuja, Kamppi, Eteläinen suurp...   \n",
      "2  Kauppakeskus Citycenter, 8, Kaivokatu, Keskust...   \n",
      "3  Hermannin rantatie, Hermanninmäki, Hermanni, K...   \n",
      "4  Hesburger, 9, Tyynenmerenkatu, Jätkäsaari, Län...   \n",
      "\n",
      "                             id  \\\n",
      "0                    Ruoholahti   \n",
      "1                 Kampin Keskus   \n",
      "2  Stockmann Helsingin Keskusta   \n",
      "3                   Kauppakesku   \n",
      "4                  Verkkokauppa   \n",
      "\n",
      "                                            addr  \\\n",
      "0       Itämerenkatu 14, 00101 Helsinki, Finland   \n",
      "1          Kampinkuja 1, 00100 Helsinki, Finland   \n",
      "2           Kaivokatu 8, 00101 Helsinki, Finland   \n",
      "3  Hermannin rantatie 1, 00580 Helsinki, Finland   \n",
      "4     Tyynenmerenkatu 9, 00220 Helsinki, Finland   \n",
      "\n",
      "                                              buffer  \n",
      "0  POLYGON ((25495313.108 6672258.695, 25495313.1...  \n",
      "1  POLYGON ((25496209.340 6672906.173, 25496209.3...  \n",
      "2  POLYGON ((25496770.122 6673002.004, 25496770.1...  \n",
      "3  POLYGON ((25498758.341 6675643.904, 25498758.3...  \n",
      "4  POLYGON ((25495647.495 6671528.068, 25495647.4...  \n"
     ]
    }
   ],
   "source": [
    "#NON-EDITABLE TEST CELL\n",
    "print(geodata.head())"
   ]
  },
  {
   "cell_type": "code",
   "execution_count": null,
   "metadata": {
    "deletable": false,
    "editable": false,
    "nbgrader": {
     "cell_type": "code",
     "checksum": "3aa92b08ec2320d792f9de905622df3d",
     "grade": true,
     "grade_id": "problem_2_shape_test",
     "locked": true,
     "points": 1,
     "schema_version": 3,
     "solution": false,
     "task": false
    }
   },
   "outputs": [],
   "source": [
    "#NON-EDITABLE TEST CELL\n",
    "# Check the data type of the first value in the buffer-column\n",
    "print(type(geodata.at[0,'buffer']))"
   ]
  },
  {
   "cell_type": "code",
   "execution_count": null,
   "metadata": {
    "deletable": false,
    "editable": false,
    "nbgrader": {
     "cell_type": "code",
     "checksum": "d6e0fe9059fff655e76e4ca36a024253",
     "grade": true,
     "grade_id": "problem_2_buffer_test",
     "locked": true,
     "points": 2,
     "schema_version": 3,
     "solution": false
    }
   },
   "outputs": [],
   "source": [
    "#NON-EDITABLE TEST CELL\n",
    "# Check the areas of your buffers in km^2\n",
    "print(round(gpd.GeoSeries(geodata[\"buffer\"]).area / 1000000))"
   ]
  },
  {
   "cell_type": "markdown",
   "metadata": {},
   "source": [
    "- Replace the values in `geometry` column with the values of `buffer` column:"
   ]
  },
  {
   "cell_type": "code",
   "execution_count": 18,
   "metadata": {
    "deletable": false,
    "nbgrader": {
     "cell_type": "code",
     "checksum": "bdecc7b62de965a4d86ecccf28de49b2",
     "grade": false,
     "grade_id": "geometry",
     "locked": false,
     "schema_version": 3,
     "solution": true
    }
   },
   "outputs": [],
   "source": [
    "# Replace the values in geometry column with the values of buffer column:\n",
    "geodata['geometry'] = geodata['buffer']"
   ]
  },
  {
   "cell_type": "code",
   "execution_count": 19,
   "metadata": {
    "deletable": false,
    "editable": false,
    "nbgrader": {
     "cell_type": "code",
     "checksum": "47a972c42e423c1597440885fa571d34",
     "grade": true,
     "grade_id": "problem_2_geometry_test",
     "locked": true,
     "points": 1,
     "schema_version": 3,
     "solution": false
    }
   },
   "outputs": [
    {
     "name": "stdout",
     "output_type": "stream",
     "text": [
      "                                            geometry  \\\n",
      "0  POLYGON ((25495313.108 6672258.695, 25495313.1...   \n",
      "1  POLYGON ((25496209.340 6672906.173, 25496209.3...   \n",
      "2  POLYGON ((25496770.122 6673002.004, 25496770.1...   \n",
      "3  POLYGON ((25498758.341 6675643.904, 25498758.3...   \n",
      "4  POLYGON ((25495647.495 6671528.068, 25495647.4...   \n",
      "\n",
      "                                             address  \\\n",
      "0  Ruoholahti, 14, Itämerenkatu, Ruoholahti, Läns...   \n",
      "1  Kamppi, 1, Kampinkuja, Kamppi, Eteläinen suurp...   \n",
      "2  Kauppakeskus Citycenter, 8, Kaivokatu, Keskust...   \n",
      "3  Hermannin rantatie, Hermanninmäki, Hermanni, K...   \n",
      "4  Hesburger, 9, Tyynenmerenkatu, Jätkäsaari, Län...   \n",
      "\n",
      "                             id  \\\n",
      "0                    Ruoholahti   \n",
      "1                 Kampin Keskus   \n",
      "2  Stockmann Helsingin Keskusta   \n",
      "3                   Kauppakesku   \n",
      "4                  Verkkokauppa   \n",
      "\n",
      "                                            addr  \\\n",
      "0       Itämerenkatu 14, 00101 Helsinki, Finland   \n",
      "1          Kampinkuja 1, 00100 Helsinki, Finland   \n",
      "2           Kaivokatu 8, 00101 Helsinki, Finland   \n",
      "3  Hermannin rantatie 1, 00580 Helsinki, Finland   \n",
      "4     Tyynenmerenkatu 9, 00220 Helsinki, Finland   \n",
      "\n",
      "                                              buffer  \n",
      "0  POLYGON ((25495313.108 6672258.695, 25495313.1...  \n",
      "1  POLYGON ((25496209.340 6672906.173, 25496209.3...  \n",
      "2  POLYGON ((25496770.122 6673002.004, 25496770.1...  \n",
      "3  POLYGON ((25498758.341 6675643.904, 25498758.3...  \n",
      "4  POLYGON ((25495647.495 6671528.068, 25495647.4...  \n"
     ]
    }
   ],
   "source": [
    "#NON-EDITABLE TEST CELL\n",
    "print(geodata.head())"
   ]
  },
  {
   "cell_type": "markdown",
   "metadata": {},
   "source": [
    "Optional: at this point, you can drop out unnecessary columns from the geodataframe. In the next problem, \n",
    "we will only need these columns: `'id', 'name', 'geometry'`"
   ]
  },
  {
   "cell_type": "code",
   "execution_count": 20,
   "metadata": {},
   "outputs": [],
   "source": [
    "geodata = geodata[['id', 'address', 'geometry']]"
   ]
  },
  {
   "cell_type": "code",
   "execution_count": 21,
   "metadata": {},
   "outputs": [],
   "source": [
    "geodata.rename(columns={'id':'name'}, inplace=True)"
   ]
  },
  {
   "cell_type": "code",
   "execution_count": 22,
   "metadata": {},
   "outputs": [
    {
     "data": {
      "text/html": [
       "<div>\n",
       "<style scoped>\n",
       "    .dataframe tbody tr th:only-of-type {\n",
       "        vertical-align: middle;\n",
       "    }\n",
       "\n",
       "    .dataframe tbody tr th {\n",
       "        vertical-align: top;\n",
       "    }\n",
       "\n",
       "    .dataframe thead th {\n",
       "        text-align: right;\n",
       "    }\n",
       "</style>\n",
       "<table border=\"1\" class=\"dataframe\">\n",
       "  <thead>\n",
       "    <tr style=\"text-align: right;\">\n",
       "      <th></th>\n",
       "      <th>name</th>\n",
       "      <th>address</th>\n",
       "      <th>geometry</th>\n",
       "    </tr>\n",
       "  </thead>\n",
       "  <tbody>\n",
       "    <tr>\n",
       "      <th>0</th>\n",
       "      <td>Ruoholahti</td>\n",
       "      <td>Ruoholahti, 14, Itämerenkatu, Ruoholahti, Läns...</td>\n",
       "      <td>POLYGON ((25495313.108 6672258.695, 25495313.1...</td>\n",
       "    </tr>\n",
       "    <tr>\n",
       "      <th>1</th>\n",
       "      <td>Kampin Keskus</td>\n",
       "      <td>Kamppi, 1, Kampinkuja, Kamppi, Eteläinen suurp...</td>\n",
       "      <td>POLYGON ((25496209.340 6672906.173, 25496209.3...</td>\n",
       "    </tr>\n",
       "    <tr>\n",
       "      <th>2</th>\n",
       "      <td>Stockmann Helsingin Keskusta</td>\n",
       "      <td>Kauppakeskus Citycenter, 8, Kaivokatu, Keskust...</td>\n",
       "      <td>POLYGON ((25496770.122 6673002.004, 25496770.1...</td>\n",
       "    </tr>\n",
       "    <tr>\n",
       "      <th>3</th>\n",
       "      <td>Kauppakesku</td>\n",
       "      <td>Hermannin rantatie, Hermanninmäki, Hermanni, K...</td>\n",
       "      <td>POLYGON ((25498758.341 6675643.904, 25498758.3...</td>\n",
       "    </tr>\n",
       "    <tr>\n",
       "      <th>4</th>\n",
       "      <td>Verkkokauppa</td>\n",
       "      <td>Hesburger, 9, Tyynenmerenkatu, Jätkäsaari, Län...</td>\n",
       "      <td>POLYGON ((25495647.495 6671528.068, 25495647.4...</td>\n",
       "    </tr>\n",
       "  </tbody>\n",
       "</table>\n",
       "</div>"
      ],
      "text/plain": [
       "                           name  \\\n",
       "0                    Ruoholahti   \n",
       "1                 Kampin Keskus   \n",
       "2  Stockmann Helsingin Keskusta   \n",
       "3                   Kauppakesku   \n",
       "4                  Verkkokauppa   \n",
       "\n",
       "                                             address  \\\n",
       "0  Ruoholahti, 14, Itämerenkatu, Ruoholahti, Läns...   \n",
       "1  Kamppi, 1, Kampinkuja, Kamppi, Eteläinen suurp...   \n",
       "2  Kauppakeskus Citycenter, 8, Kaivokatu, Keskust...   \n",
       "3  Hermannin rantatie, Hermanninmäki, Hermanni, K...   \n",
       "4  Hesburger, 9, Tyynenmerenkatu, Jätkäsaari, Län...   \n",
       "\n",
       "                                            geometry  \n",
       "0  POLYGON ((25495313.108 6672258.695, 25495313.1...  \n",
       "1  POLYGON ((25496209.340 6672906.173, 25496209.3...  \n",
       "2  POLYGON ((25496770.122 6673002.004, 25496770.1...  \n",
       "3  POLYGON ((25498758.341 6675643.904, 25498758.3...  \n",
       "4  POLYGON ((25495647.495 6671528.068, 25495647.4...  "
      ]
     },
     "execution_count": 22,
     "metadata": {},
     "output_type": "execute_result"
    }
   ],
   "source": [
    "geodata.head()"
   ]
  },
  {
   "cell_type": "markdown",
   "metadata": {},
   "source": [
    "## Problem 3: How many people live near shopping centers? (5 points)\n",
    "\n",
    "Last step in our analysis is to make a spatial join between our buffer layer and population data in order to find out **how many people live near each shopping center**. We will use the same data as we did during [lesson 3](https://automating-gis-processes.github.io/site/notebooks/L3/spatial-join.html#Spatial-join); **a Population Grid** that is available via the HSY wfs. \n",
    "\n",
    "Alternatively, you can also download the data from the [Helsinki Region Infoshare (HRI)](https://www.hsy.fi/fi/asiantuntijalle/avoindata/Sivut/AvoinData.aspx?dataID=7) as a shapefile (using wget).\n",
    "\n",
    "The coordinate reference system of the population grid is **ETRS GK-25 (EPSG:3879)**.\n",
    "\n",
    "\n",
    "**Steps:**\n",
    "\n",
    "- Read the population grid into a geodataframe\n",
    "\n",
    "- Select only the useful columns from the population grid: ``'asukkaita'`` (=population count per grid square) and ``'geometry'`` \n",
    "\n",
    "- Make a spatial join between your buffered point layer and population grid layer. Join the information now from buffer layer **into the population grid layer**\n",
    "\n",
    "- Group the joined layer by shopping center index\n",
    "\n",
    "- Calculate the sum of population living within 1.5 km for each shopping center.\n",
    "\n",
    "**Finally:**\n",
    "\n",
    "- Print out the population living within 1.5 km from each shopping center:\n",
    "\n",
    "     - Itis\n",
    "     - Forum\n",
    "     - Iso-omena\n",
    "     - Sello\n",
    "     - Jumbo\n",
    "     - REDI\n",
    "     - Tripla\n",
    "     \n",
    "**Final print out should contain both the shopping center name and population count**, for example: `25858 people live within 1.5 km from Iso-Omena`.\n",
    "\n",
    "*Feel free to divide your solution into several codeblocks! Remember to comment your code  :)*"
   ]
  },
  {
   "cell_type": "code",
   "execution_count": 23,
   "metadata": {
    "deletable": false,
    "nbgrader": {
     "cell_type": "code",
     "checksum": "ce4513d664d7851d8da8b9d648b75bf7",
     "grade": false,
     "grade_id": "read_wfs",
     "locked": false,
     "schema_version": 3,
     "solution": true,
     "task": false
    }
   },
   "outputs": [],
   "source": [
    "# Specify the url for web feature service\n",
    "url = 'https://kartta.hsy.fi/geoserver/wfs'\n",
    "\n",
    "# Specify parameters (read data in json format).\n",
    "# Available feature types in this particular data source: http://geo.stat.fi/geoserver/vaestoruutu/wfs?service=wfs&version=2.0.0&request=describeFeatureType\n",
    "params = dict(service='WFS',\n",
    "              version='2.0.0',\n",
    "              request='GetFeature',\n",
    "              typeName='asuminen_ja_maankaytto:Vaestotietoruudukko_2018',\n",
    "              outputFormat='json')\n",
    "\n",
    "# Fetch data from WFS using requests\n",
    "r = requests.get(url, params=params)\n",
    "\n",
    "# # Read population grid data for 2018 from geojson into a variable `pop` as geoDataFrame\n",
    "pop = gpd.GeoDataFrame.from_features(geojson.loads(r.content))"
   ]
  },
  {
   "cell_type": "code",
   "execution_count": 24,
   "metadata": {},
   "outputs": [],
   "source": [
    "# Check the crs info\n",
    "pop.crs = CRS.from_epsg(3879).to_wkt()"
   ]
  },
  {
   "cell_type": "code",
   "execution_count": 25,
   "metadata": {},
   "outputs": [
    {
     "data": {
      "text/plain": [
       "True"
      ]
     },
     "execution_count": 25,
     "metadata": {},
     "output_type": "execute_result"
    }
   ],
   "source": [
    "geodata.crs == pop.crs"
   ]
  },
  {
   "cell_type": "code",
   "execution_count": 26,
   "metadata": {
    "deletable": false,
    "editable": false,
    "nbgrader": {
     "cell_type": "code",
     "checksum": "8fe4f1ecd4466cf975714202c832be7e",
     "grade": true,
     "grade_id": "problem_3_read_data_test",
     "locked": true,
     "points": 1,
     "schema_version": 3,
     "solution": false,
     "task": false
    }
   },
   "outputs": [
    {
     "name": "stdout",
     "output_type": "stream",
     "text": [
      "Number of rows: 3167\n",
      "                                            geometry  index  asukkaita  \\\n",
      "0  MULTIPOLYGON Z (((25476499.999 6674248.999 0.0...   3342        108   \n",
      "1  MULTIPOLYGON Z (((25476749.997 6674498.998 0.0...   3503        273   \n",
      "2  MULTIPOLYGON Z (((25476999.994 6675749.004 0.0...   3660        239   \n",
      "\n",
      "   asvaljyys  ika0_9  ika10_19  ika20_29  ika30_39  ika40_49  ika50_59  \\\n",
      "0         45      11        23         6         7        26        17   \n",
      "1         35      35        24        52        62        40        26   \n",
      "2         34      46        24        24        45        33        30   \n",
      "\n",
      "   ika60_69  ika70_79  ika_yli80  \n",
      "0         8         6          4  \n",
      "1        25         9          0  \n",
      "2        25        10          2  \n"
     ]
    }
   ],
   "source": [
    "#NON-EDITABLE TEST CELL\n",
    "# Check your input data\n",
    "print(\"Number of rows:\", len(pop))\n",
    "print(pop.head(3))"
   ]
  },
  {
   "cell_type": "code",
   "execution_count": 27,
   "metadata": {},
   "outputs": [
    {
     "name": "stderr",
     "output_type": "stream",
     "text": [
      "/srv/conda/envs/notebook/lib/python3.8/site-packages/geopandas/_compat.py:84: UserWarning: The Shapely GEOS version (3.8.0-CAPI-1.13.1 ) is incompatible with the GEOS version PyGEOS was compiled with (3.9.0-CAPI-1.16.2). Conversions between both will be slow.\n",
      "  warnings.warn(\n"
     ]
    }
   ],
   "source": [
    "gpd.options.use_pygeos = True"
   ]
  },
  {
   "cell_type": "code",
   "execution_count": 28,
   "metadata": {},
   "outputs": [],
   "source": [
    "# Change the name of a column\n",
    "pop = pop.rename(columns={'asukkaita': 'pop18'})"
   ]
  },
  {
   "cell_type": "code",
   "execution_count": 29,
   "metadata": {},
   "outputs": [],
   "source": [
    "# Subset columns\n",
    "pop = pop[[\"pop18\", \"geometry\"]]"
   ]
  },
  {
   "cell_type": "code",
   "execution_count": 30,
   "metadata": {
    "deletable": false,
    "nbgrader": {
     "cell_type": "code",
     "checksum": "6e1a19296e4d4bbdd868d231ed20505b",
     "grade": false,
     "grade_id": "spatial_join",
     "locked": false,
     "schema_version": 3,
     "solution": true
    }
   },
   "outputs": [],
   "source": [
    "# Create a spatial join between grid layer and buffer layer, only geodata addresses falling within pop will get returned!\n",
    "join = gpd.sjoin(geodata, pop, how=\"inner\", op=\"within\")"
   ]
  },
  {
   "cell_type": "markdown",
   "metadata": {},
   "source": [
    "#### Did some addresses fall outside of our grid?"
   ]
  },
  {
   "cell_type": "code",
   "execution_count": 32,
   "metadata": {
    "deletable": false,
    "nbgrader": {
     "cell_type": "code",
     "checksum": "31380c3846a2b817d025fdd218289113",
     "grade": false,
     "grade_id": "print_results",
     "locked": false,
     "schema_version": 3,
     "solution": true,
     "task": false
    }
   },
   "outputs": [
    {
     "data": {
      "text/plain": [
       "True"
      ]
     },
     "execution_count": 32,
     "metadata": {},
     "output_type": "execute_result"
    }
   ],
   "source": [
    "len(geodata) > len(join)"
   ]
  },
  {
   "cell_type": "markdown",
   "metadata": {},
   "source": [
    "#### Report how many people live within 1.5 km distance from each shopping center"
   ]
  },
  {
   "cell_type": "code",
   "execution_count": 34,
   "metadata": {},
   "outputs": [
    {
     "data": {
      "text/plain": [
       "14461"
      ]
     },
     "execution_count": 34,
     "metadata": {},
     "output_type": "execute_result"
    }
   ],
   "source": [
    "join.pop18.sum()"
   ]
  },
  {
   "cell_type": "code",
   "execution_count": 35,
   "metadata": {},
   "outputs": [],
   "source": [
    "geodata.to_file('shopping_centers_ouput.txt')"
   ]
  },
  {
   "cell_type": "markdown",
   "metadata": {},
   "source": [
    "**Reflections:**\n",
    "    \n",
    "- How challenging did you find problems 1-3 (on scale to 1-5), and why?\n",
    "- What was easy?\n",
    "- What was difficult?"
   ]
  },
  {
   "cell_type": "markdown",
   "metadata": {
    "deletable": false,
    "nbgrader": {
     "cell_type": "markdown",
     "checksum": "ae8c161a5ec09a095453240cd41b6da8",
     "grade": true,
     "grade_id": "problem_3_Check_problem_3",
     "locked": false,
     "points": 4,
     "schema_version": 3,
     "solution": true
    }
   },
   "source": [
    "YOUR ANSWER HERE"
   ]
  },
  {
   "cell_type": "markdown",
   "metadata": {},
   "source": [
    "Well done! Now you can continue to [problem 4](Exercise-3-Problem-4.ipynb)"
   ]
  }
 ],
 "metadata": {
  "anaconda-cloud": {},
  "kernelspec": {
   "display_name": "Python 3",
   "language": "python",
   "name": "python3"
  },
  "language_info": {
   "codemirror_mode": {
    "name": "ipython",
    "version": 3
   },
   "file_extension": ".py",
   "mimetype": "text/x-python",
   "name": "python",
   "nbconvert_exporter": "python",
   "pygments_lexer": "ipython3",
   "version": "3.8.5"
  }
 },
 "nbformat": 4,
 "nbformat_minor": 4
}
